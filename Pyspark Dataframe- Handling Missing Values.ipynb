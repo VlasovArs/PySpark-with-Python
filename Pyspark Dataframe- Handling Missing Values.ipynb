{
 "cells": [
  {
   "cell_type": "markdown",
   "id": "037f98f7",
   "metadata": {},
   "source": [
    "#### Pyspark Handling Missing Value\n",
    "- Dropping Columns\n",
    "- Dropping Rows\n",
    "- Various Parameter In Dropping functionalities\n",
    "- Handling Missing values by Mean, Median And Mode"
   ]
  },
  {
   "cell_type": "code",
   "execution_count": 2,
   "id": "e37f0317",
   "metadata": {},
   "outputs": [],
   "source": [
    "from pyspark.sql import SparkSession\n",
    "spark=SparkSession.builder.appName('Practise').getOrCreate()"
   ]
  },
  {
   "cell_type": "code",
   "execution_count": 24,
   "id": "ee085dbf",
   "metadata": {},
   "outputs": [],
   "source": [
    "df_pyspark=spark.read.csv('test2.csv',sep=';',header=True,inferSchema=True)"
   ]
  },
  {
   "cell_type": "code",
   "execution_count": 25,
   "id": "4004c0c1",
   "metadata": {},
   "outputs": [
    {
     "name": "stdout",
     "output_type": "stream",
     "text": [
      "+---------+----+----------+------+\n",
      "|     Name| age|Experience|Salary|\n",
      "+---------+----+----------+------+\n",
      "|     Alex|  31|        10| 30000|\n",
      "|     Igor|  30|         8| 25000|\n",
      "| Vladimir|  29|         4| 20000|\n",
      "|   Victor|  24|         3| 20000|\n",
      "|   Sergey|  21|         1| 15000|\n",
      "|    Masha|  23|         2| 18000|\n",
      "|Vladislav|null|      null| 40000|\n",
      "|     null|  34|        10| 38000|\n",
      "|     null|  36|      null|  null|\n",
      "+---------+----+----------+------+\n",
      "\n"
     ]
    }
   ],
   "source": [
    "df_pyspark.show()"
   ]
  },
  {
   "cell_type": "code",
   "execution_count": 7,
   "id": "37b33af1",
   "metadata": {},
   "outputs": [
    {
     "name": "stdout",
     "output_type": "stream",
     "text": [
      "+----+----------+------+\n",
      "| age|Experience|Salary|\n",
      "+----+----------+------+\n",
      "|  31|        10| 30000|\n",
      "|  30|         8| 25000|\n",
      "|  29|         4| 20000|\n",
      "|  24|         3| 20000|\n",
      "|  21|         1| 15000|\n",
      "|  23|         2| 18000|\n",
      "|null|      null| 40000|\n",
      "|  34|        10| 38000|\n",
      "|  36|      null|  null|\n",
      "+----+----------+------+\n",
      "\n"
     ]
    }
   ],
   "source": [
    "##drop the columns\n",
    "df_pyspark.drop('Name').show()"
   ]
  },
  {
   "cell_type": "code",
   "execution_count": 8,
   "id": "68563b3e",
   "metadata": {},
   "outputs": [
    {
     "name": "stdout",
     "output_type": "stream",
     "text": [
      "+--------+---+----------+------+\n",
      "|    Name|age|Experience|Salary|\n",
      "+--------+---+----------+------+\n",
      "|    Alex| 31|        10| 30000|\n",
      "|    Igor| 30|         8| 25000|\n",
      "|Vladimir| 29|         4| 20000|\n",
      "|  Victor| 24|         3| 20000|\n",
      "|  Sergey| 21|         1| 15000|\n",
      "|   Masha| 23|         2| 18000|\n",
      "+--------+---+----------+------+\n",
      "\n"
     ]
    }
   ],
   "source": [
    "df_pyspark.na.drop().show()"
   ]
  },
  {
   "cell_type": "code",
   "execution_count": 11,
   "id": "4a8af1b8",
   "metadata": {},
   "outputs": [
    {
     "name": "stdout",
     "output_type": "stream",
     "text": [
      "+---------+----+----------+------+\n",
      "|     Name| age|Experience|Salary|\n",
      "+---------+----+----------+------+\n",
      "|     Alex|  31|        10| 30000|\n",
      "|     Igor|  30|         8| 25000|\n",
      "| Vladimir|  29|         4| 20000|\n",
      "|   Victor|  24|         3| 20000|\n",
      "|   Sergey|  21|         1| 15000|\n",
      "|    Masha|  23|         2| 18000|\n",
      "|Vladislav|null|      null| 40000|\n",
      "|     null|  34|        10| 38000|\n",
      "|     null|  36|      null|  null|\n",
      "+---------+----+----------+------+\n",
      "\n"
     ]
    }
   ],
   "source": [
    "### any==how\n",
    "df_pyspark.na.drop(how='all').show() # if all parameters in the line are null"
   ]
  },
  {
   "cell_type": "code",
   "execution_count": 16,
   "id": "90648285",
   "metadata": {},
   "outputs": [
    {
     "name": "stdout",
     "output_type": "stream",
     "text": [
      "+--------+---+----------+------+\n",
      "|    Name|age|Experience|Salary|\n",
      "+--------+---+----------+------+\n",
      "|    Alex| 31|        10| 30000|\n",
      "|    Igor| 30|         8| 25000|\n",
      "|Vladimir| 29|         4| 20000|\n",
      "|  Victor| 24|         3| 20000|\n",
      "|  Sergey| 21|         1| 15000|\n",
      "|   Masha| 23|         2| 18000|\n",
      "|    null| 34|        10| 38000|\n",
      "+--------+---+----------+------+\n",
      "\n"
     ]
    }
   ],
   "source": [
    "##threshold\n",
    "df_pyspark.na.drop(how='any',thresh=3).show()#thresh - value not Null\n"
   ]
  },
  {
   "cell_type": "code",
   "execution_count": 20,
   "id": "a1b8cb1f",
   "metadata": {},
   "outputs": [
    {
     "name": "stdout",
     "output_type": "stream",
     "text": [
      "+--------+---+----------+------+\n",
      "|    Name|age|Experience|Salary|\n",
      "+--------+---+----------+------+\n",
      "|    Alex| 31|        10| 30000|\n",
      "|    Igor| 30|         8| 25000|\n",
      "|Vladimir| 29|         4| 20000|\n",
      "|  Victor| 24|         3| 20000|\n",
      "|  Sergey| 21|         1| 15000|\n",
      "|   Masha| 23|         2| 18000|\n",
      "|    null| 34|        10| 38000|\n",
      "+--------+---+----------+------+\n",
      "\n"
     ]
    }
   ],
   "source": [
    " ##Subset\n",
    "df_pyspark.na.drop(how='any', subset=['Experience']).show() #in the Experience column, if there is Null, the row is deleted"
   ]
  },
  {
   "cell_type": "code",
   "execution_count": 29,
   "id": "7622fff7",
   "metadata": {
    "scrolled": true
   },
   "outputs": [
    {
     "name": "stdout",
     "output_type": "stream",
     "text": [
      "+---------+----+----------+------+\n",
      "|     Name| age|Experience|Salary|\n",
      "+---------+----+----------+------+\n",
      "|     Alex|  31|        10| 30000|\n",
      "|     Igor|  30|         8| 25000|\n",
      "| Vladimir|  29|         4| 20000|\n",
      "|   Victor|  24|         3| 20000|\n",
      "|   Sergey|  21|         1| 15000|\n",
      "|    Masha|  23|         2| 18000|\n",
      "|Vladislav|null|      null| 40000|\n",
      "|     null|  34|        10| 38000|\n",
      "|     null|  36|      null|  null|\n",
      "+---------+----+----------+------+\n",
      "\n"
     ]
    }
   ],
   "source": [
    "### Filling the Missing Value\n",
    "df_pyspark.na.fill('MV',['age','Experience']).show()"
   ]
  },
  {
   "cell_type": "code",
   "execution_count": 30,
   "id": "c13137ad",
   "metadata": {},
   "outputs": [
    {
     "name": "stdout",
     "output_type": "stream",
     "text": [
      "+---------+----+----------+------+\n",
      "|     Name| age|Experience|Salary|\n",
      "+---------+----+----------+------+\n",
      "|     Alex|  31|        10| 30000|\n",
      "|     Igor|  30|         8| 25000|\n",
      "| Vladimir|  29|         4| 20000|\n",
      "|   Victor|  24|         3| 20000|\n",
      "|   Sergey|  21|         1| 15000|\n",
      "|    Masha|  23|         2| 18000|\n",
      "|Vladislav|null|      null| 40000|\n",
      "|     null|  34|        10| 38000|\n",
      "|     null|  36|      null|  null|\n",
      "+---------+----+----------+------+\n",
      "\n"
     ]
    }
   ],
   "source": [
    "df_pyspark.show()"
   ]
  },
  {
   "cell_type": "code",
   "execution_count": 32,
   "id": "4a03e53f",
   "metadata": {},
   "outputs": [],
   "source": [
    "from pyspark.ml.feature import Imputer\n",
    "\n",
    "imputer = Imputer( #replace null on mean values\n",
    "    inputCols=['age','Experience','Salary'],\n",
    "    outputCols=['{}_imputed'.format(c) for c in ['age','Experience','Salary']]\n",
    "    ).setStrategy('mean')"
   ]
  },
  {
   "cell_type": "code",
   "execution_count": 34,
   "id": "89781bcb",
   "metadata": {},
   "outputs": [
    {
     "name": "stdout",
     "output_type": "stream",
     "text": [
      "+---------+----+----------+------+-----------+------------------+--------------+\n",
      "|     Name| age|Experience|Salary|age_imputed|Experience_imputed|Salary_imputed|\n",
      "+---------+----+----------+------+-----------+------------------+--------------+\n",
      "|     Alex|  31|        10| 30000|         31|                10|         30000|\n",
      "|     Igor|  30|         8| 25000|         30|                 8|         25000|\n",
      "| Vladimir|  29|         4| 20000|         29|                 4|         20000|\n",
      "|   Victor|  24|         3| 20000|         24|                 3|         20000|\n",
      "|   Sergey|  21|         1| 15000|         21|                 1|         15000|\n",
      "|    Masha|  23|         2| 18000|         23|                 2|         18000|\n",
      "|Vladislav|null|      null| 40000|         28|                 5|         40000|\n",
      "|     null|  34|        10| 38000|         34|                10|         38000|\n",
      "|     null|  36|      null|  null|         36|                 5|         25750|\n",
      "+---------+----+----------+------+-----------+------------------+--------------+\n",
      "\n"
     ]
    }
   ],
   "source": [
    "# Add impuration cols to df\n",
    "imputer.fit(df_pyspark).transform(df_pyspark).show()"
   ]
  },
  {
   "cell_type": "code",
   "execution_count": null,
   "id": "00db241d",
   "metadata": {},
   "outputs": [],
   "source": []
  }
 ],
 "metadata": {
  "kernelspec": {
   "display_name": "Python 3 (ipykernel)",
   "language": "python",
   "name": "python3"
  },
  "language_info": {
   "codemirror_mode": {
    "name": "ipython",
    "version": 3
   },
   "file_extension": ".py",
   "mimetype": "text/x-python",
   "name": "python",
   "nbconvert_exporter": "python",
   "pygments_lexer": "ipython3",
   "version": "3.9.12"
  }
 },
 "nbformat": 4,
 "nbformat_minor": 5
}
